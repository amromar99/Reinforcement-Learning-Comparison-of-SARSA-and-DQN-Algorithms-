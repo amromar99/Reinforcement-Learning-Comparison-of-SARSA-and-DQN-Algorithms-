{
  "nbformat": 4,
  "nbformat_minor": 0,
  "metadata": {
    "colab": {
      "provenance": []
    },
    "kernelspec": {
      "name": "python3",
      "display_name": "Python 3"
    },
    "language_info": {
      "name": "python"
    }
  },
  "cells": [
    {
      "cell_type": "code",
      "execution_count": 35,
      "metadata": {
        "id": "98kmgPV05MU6"
      },
      "outputs": [],
      "source": [
        "# Eng/Amr Mostafa Omar\n",
        "# Nile University ,Cairo, Egypt\n",
        "# Data 27/5/2024"
      ]
    },
    {
      "cell_type": "code",
      "source": [
        "import numpy as np\n",
        "import gym\n",
        "from gym import spaces\n",
        "from scipy.linalg import solve\n",
        "import matplotlib.pyplot as plt\n",
        "from matplotlib import colors"
      ],
      "metadata": {
        "id": "OAUwBqyVT3pP"
      },
      "execution_count": 36,
      "outputs": []
    },
    {
      "cell_type": "markdown",
      "source": [
        "##**I.**Implement a Gridworld Environment: (Deterministic Env)"
      ],
      "metadata": {
        "id": "gXnS-OhScOyc"
      }
    },
    {
      "cell_type": "code",
      "source": [
        "class Grid_world_Env_Deterministic(gym.Env):\n",
        "    metadata = {'render.modes': ['human']}\n",
        "\n",
        "    def __init__(self, grid_size=(5, 5), start=(0, 0), goal=(1, 4), fire_cells=[(0, 2), (3, 3), (4, 1)], blocked_cells=[(1, 1), (1, 2), (2, 1),(2,2)], noise=0):\n",
        "        super(Grid_world_Env_Deterministic, self).__init__()\n",
        "\n",
        "        self.grid_size = grid_size\n",
        "        self.start = start\n",
        "        self.goal = goal\n",
        "        self.fire_cells = fire_cells\n",
        "        self.blocked_cells = blocked_cells\n",
        "        self.noise = noise\n",
        "        self.current_position = start\n",
        "\n",
        "        self.action_space = spaces.Discrete(4)\n",
        "        # 4 actions: 0=North, 1=East, 2=South, 3=West\n",
        "        self.observation_space = spaces.Tuple((spaces.Discrete(grid_size[0]), spaces.Discrete(grid_size[1])))\n",
        "\n",
        "        self.rewards = np.zeros(grid_size)\n",
        "        self.rewards[goal] = 5\n",
        "        for cell in fire_cells:\n",
        "            self.rewards[cell] = -5\n",
        "\n",
        "    def reset(self):\n",
        "        self.current_position = self.start\n",
        "        return self.current_position\n",
        "\n",
        "    def is_valid_state(self, x, y):\n",
        "        return 0 <= x < self.grid_size[0] and 0 <= y < self.grid_size[1] and (x, y) not in self.blocked_cells\n",
        "\n",
        "    def step(self, action):\n",
        "        if np.random.rand() < self.noise:\n",
        "            action = np.random.choice([0, 1, 2, 3])\n",
        "\n",
        "        x, y = self.current_position\n",
        "        if action == 0:  # North\n",
        "            new_x, new_y = x - 1, y\n",
        "        elif action == 1:  # East\n",
        "            new_x, new_y = x, y + 1\n",
        "        elif action == 2:  # South\n",
        "            new_x, new_y = x + 1, y\n",
        "        elif action == 3:  # West\n",
        "            new_x, new_y = x, y - 1\n",
        "\n",
        "        if not self.is_valid_state(new_x, new_y):\n",
        "            new_x, new_y = x, y\n",
        "\n",
        "        reward = self.rewards[new_x, new_y]\n",
        "        done = (new_x, new_y) == self.goal or (new_x, new_y) in self.fire_cells\n",
        "\n",
        "        self.current_position = (new_x, new_y)\n",
        "\n",
        "        return (new_x, new_y), reward, done, {}\n",
        "\n",
        "\n",
        "    def render(self, mode='human'):\n",
        "        grid_copy = np.full(self.grid_size, -5)  # Initialize grid with  white\n",
        "\n",
        "        # Mark goal, fire, and blocked cells\n",
        "        grid_copy[self.goal] = 5\n",
        "        for cell in self.fire_cells:\n",
        "            grid_copy[cell] = 3\n",
        "        for cell in self.blocked_cells:\n",
        "            grid_copy[cell] = 0\n",
        "\n",
        "        # Define a color map for the grid\n",
        "        cmap = colors.ListedColormap(['white', 'black', 'red', 'green'])\n",
        "        bounds = [-6, -4, 1, 4, 6]\n",
        "        norm = colors.BoundaryNorm(bounds, cmap.N)\n",
        "\n",
        "        # Plot the grid\n",
        "        plt.imshow(grid_copy, cmap=cmap, norm=norm, interpolation='nearest')\n",
        "\n",
        "        # Mark the agent's position with a different marker\n",
        "        agent_x, agent_y = self.current_position\n",
        "        plt.scatter(agent_y, agent_x, c='blue', s=200, marker='*', label='Agent')\n",
        "\n",
        "        plt.colorbar(ticks=[-5, 0, 3, 5], format='%d')\n",
        "        plt.legend()\n",
        "        plt.show()"
      ],
      "metadata": {
        "id": "z3el_S-Y83Re"
      },
      "execution_count": 37,
      "outputs": []
    },
    {
      "cell_type": "code",
      "source": [
        "env = Grid_world_Env_Deterministic()\n",
        "\n",
        "# Reset the environment\n",
        "state = env.reset()\n",
        "done = False\n",
        "\n",
        "# Run one episode\n",
        "while not done:\n",
        "    action = np.random.choice([0, 1, 2, 3])  # Random action\n",
        "    next_state, reward, done, info = env.step(action)\n",
        "    env.render()\n",
        "    print(f\"Action: {action}, Next State: {next_state}, Reward: {reward}, Done: {done}\")"
      ],
      "metadata": {
        "colab": {
          "base_uri": "https://localhost:8080/",
          "height": 1000
        },
        "id": "p7WH0V3C83Tj",
        "outputId": "8b470555-0bbb-4472-dc76-f80418fa455b"
      },
      "execution_count": 38,
      "outputs": [
        {
          "output_type": "display_data",
          "data": {
            "text/plain": [
              "<Figure size 640x480 with 2 Axes>"
            ],
            "image/png": "[encoded data removed]"
          },
          "metadata": {}
        },
        {
          "output_type": "stream",
          "name": "stdout",
          "text": [
            "Action: 3, Next State: (0, 0), Reward: 0.0, Done: False\n"
          ]
        },
        {
          "output_type": "display_data",
          "data": {
            "text/plain": [
              "<Figure size 640x480 with 2 Axes>"
            ],
            "image/png": "[encoded data removed]"
          },
          "metadata": {}
        },
        {
          "output_type": "stream",
          "name": "stdout",
          "text": [
            "Action: 2, Next State: (1, 0), Reward: 0.0, Done: False\n"
          ]
        },
        {
          "output_type": "display_data",
          "data": {
            "text/plain": [
              "<Figure size 640x480 with 2 Axes>"
            ],
            "image/png": "[encoded data removed]"
          },
          "metadata": {}
        },
        {
          "output_type": "stream",
          "name": "stdout",
          "text": [
            "Action: 2, Next State: (2, 0), Reward: 0.0, Done: False\n"
          ]
        },
        {
          "output_type": "display_data",
          "data": {
            "text/plain": [
              "<Figure size 640x480 with 2 Axes>"
            ],
            "image/png": "[encoded data removed]"
          },
          "metadata": {}
        },
        {
          "output_type": "stream",
          "name": "stdout",
          "text": [
            "Action: 0, Next State: (1, 0), Reward: 0.0, Done: False\n"
          ]
        },
        {
          "output_type": "display_data",
          "data": {
            "text/plain": [
              "<Figure size 640x480 with 2 Axes>"
            ],
            "image/png": "[encoded data removed]"
          },
          "metadata": {}
        },
        {
          "output_type": "stream",
          "name": "stdout",
          "text": [
            "Action: 2, Next State: (2, 0), Reward: 0.0, Done: False\n"
          ]
        },
        {
          "output_type": "display_data",
          "data": {
            "text/plain": [
              "<Figure size 640x480 with 2 Axes>"
            ],
            "image/png": "[encoded data removed]"
          },
          "metadata": {}
        },
        {
          "output_type": "stream",
          "name": "stdout",
          "text": [
            "Action: 3, Next State: (2, 0), Reward: 0.0, Done: False\n"
          ]
        },
        {
          "output_type": "display_data",
          "data": {
            "text/plain": [
              "<Figure size 640x480 with 2 Axes>"
            ],
            "image/png": "[encoded data removed]"
          },
          "metadata": {}
        },
        {
          "output_type": "stream",
          "name": "stdout",
          "text": [
            "Action: 1, Next State: (2, 0), Reward: 0.0, Done: False\n"
          ]
        },
        {
          "output_type": "display_data",
          "data": {
            "text/plain": [
              "<Figure size 640x480 with 2 Axes>"
            ],
            "image/png": "[encoded data removed]"
          },
          "metadata": {}
        },
        {
          "output_type": "stream",
          "name": "stdout",
          "text": [
            "Action: 2, Next State: (3, 0), Reward: 0.0, Done: False\n"
          ]
        },
        {
          "output_type": "display_data",
          "data": {
            "text/plain": [
              "<Figure size 640x480 with 2 Axes>"
            ],
            "image/png": "[encoded data removed]"
          },
          "metadata": {}
        },
        {
          "output_type": "stream",
          "name": "stdout",
          "text": [
            "Action: 1, Next State: (3, 1), Reward: 0.0, Done: False\n"
          ]
        },
        {
          "output_type": "display_data",
          "data": {
            "text/plain": [
              "<Figure size 640x480 with 2 Axes>"
            ],
            "image/png": "[encoded data removed]"
          },
          "metadata": {}
        },
        {
          "output_type": "stream",
          "name": "stdout",
          "text": [
            "Action: 3, Next State: (3, 0), Reward: 0.0, Done: False\n"
          ]
        },
        {
          "output_type": "display_data",
          "data": {
            "text/plain": [
              "<Figure size 640x480 with 2 Axes>"
            ],
            "image/png": "[encoded data removed]"
          },
          "metadata": {}
        },
        {
          "output_type": "stream",
          "name": "stdout",
          "text": [
            "Action: 3, Next State: (3, 0), Reward: 0.0, Done: False\n"
          ]
        },
        {
          "output_type": "display_data",
          "data": {
            "text/plain": [
              "<Figure size 640x480 with 2 Axes>"
            ],
            "image/png": "[encoded data removed]"
          },
          "metadata": {}
        },
        {
          "output_type": "stream",
          "name": "stdout",
          "text": [
            "Action: 2, Next State: (4, 0), Reward: 0.0, Done: False\n"
          ]
        },
        {
          "output_type": "display_data",
          "data": {
            "text/plain": [
              "<Figure size 640x480 with 2 Axes>"
            ],
            "image/png": "[encoded data removed]"
          },
          "metadata": {}
        },
        {
          "output_type": "stream",
          "name": "stdout",
          "text": [
            "Action: 3, Next State: (4, 0), Reward: 0.0, Done: False\n"
          ]
        },
        {
          "output_type": "display_data",
          "data": {
            "text/plain": [
              "<Figure size 640x480 with 2 Axes>"
            ],
            "image/png": "[encoded data removed]"
          },
          "metadata": {}
        },
        {
          "output_type": "stream",
          "name": "stdout",
          "text": [
            "Action: 1, Next State: (4, 1), Reward: -5.0, Done: True\n"
          ]
        }
      ]
    },
    {
      "cell_type": "markdown",
      "source": [
        "##**II.** A linear solver to solve the system Ax = b (Deterministic case)."
      ],
      "metadata": {
        "id": "D_P0y5O_cjYT"
      }
    },
    {
      "cell_type": "code",
      "source": [
        "class Agent_1:\n",
        "    def __init__(self, env):\n",
        "        self.env = env\n",
        "        self.discount_factor = 0.6 #  discount factor (Gamma)\n",
        "        self.transition_matrix, self.reward_vector = self.build_system()\n",
        "\n",
        "    def build_system(self):\n",
        "        num_states = self.env.grid_size[0] * self.env.grid_size[1]\n",
        "        transition_matrix = np.zeros((num_states, num_states))\n",
        "        reward_vector = np.zeros(num_states)\n",
        "\n",
        "        for s in range(num_states):\n",
        "            state_coords = (s // self.env.grid_size[1], s % self.env.grid_size[1])\n",
        "            if state_coords in self.env.blocked_cells:\n",
        "                continue\n",
        "\n",
        "            self.env.current_position = state_coords\n",
        "            if state_coords == self.env.goal:\n",
        "                reward_vector[s] = self.env.rewards[state_coords]\n",
        "                continue\n",
        "\n",
        "            for a in range(self.env.action_space.n):\n",
        "                self.env.current_position = state_coords\n",
        "                next_state, reward, _, _ = self.env.step(a)\n",
        "                next_state_index = next_state[0] * self.env.grid_size[1] + next_state[1]\n",
        "\n",
        "                transition_matrix[s, next_state_index] += 1 / self.env.action_space.n\n",
        "                reward_vector[s] += reward / self.env.action_space.n\n",
        "\n",
        "            # Normalize the transition probabilities to sum to 1\n",
        "            row_sum = np.sum(transition_matrix[s])\n",
        "            if row_sum > 0:\n",
        "                transition_matrix[s] /= row_sum\n",
        "\n",
        "            self.env.reset()\n",
        "\n",
        "        return transition_matrix, reward_vector\n",
        "\n",
        "    def solve_system(self):\n",
        "        I = np.eye(self.transition_matrix.shape[0])\n",
        "        A = I - self.discount_factor * self.transition_matrix\n",
        "        b = self.reward_vector\n",
        "        state_values = solve(A, b)\n",
        "        state_values = state_values.reshape(self.env.grid_size)\n",
        "\n",
        "        # Explicitly set the state values for fire cells to -5\n",
        "        for cell in self.env.fire_cells:\n",
        "            state_values[cell] = -5.0\n",
        "\n",
        "        return state_values"
      ],
      "metadata": {
        "id": "mMEP5IBj83XC"
      },
      "execution_count": 45,
      "outputs": []
    },
    {
      "cell_type": "code",
      "source": [
        "# Gridworld environment\n",
        "env = Grid_world_Env_Deterministic()\n",
        "\n",
        "# The agent instance\n",
        "agent = Agent_1(env)\n",
        "\n",
        "# Perform linear solver to get state values\n",
        "state_values = agent.solve_system()\n",
        "\n",
        "print(\"State Values:\\n\", state_values)"
      ],
      "metadata": {
        "colab": {
          "base_uri": "https://localhost:8080/"
        },
        "id": "k2ghOgA5crp_",
        "outputId": "e965877c-fbdf-4af0-ea8a-d78381a38401"
      },
      "execution_count": 46,
      "outputs": [
        {
          "output_type": "stream",
          "name": "stdout",
          "text": [
            "State Values:\n",
            " [[-0.66190228 -2.89367222 -5.         -1.47964547  2.54007597]\n",
            " [-0.19520509  0.          0.          1.91716779  5.        ]\n",
            " [-0.24905479  0.          0.         -0.98973708  1.91866163]\n",
            " [-0.9670506  -2.61707556 -2.63225397 -5.         -1.47118036]\n",
            " [-2.61382305 -5.         -2.85469075 -2.31353666 -0.81101079]]\n"
          ]
        }
      ]
    },
    {
      "cell_type": "markdown",
      "source": [
        "##**III.**Apply a Dynamic Programming Algorithm:Using Value Iteration Method (Deterministic Env)"
      ],
      "metadata": {
        "id": "597sjU-8cq54"
      }
    },
    {
      "cell_type": "code",
      "source": [
        "class Agent_2:\n",
        "    def __init__(self, env, gamma=0.6, theta=1e-4):\n",
        "        self.env = env\n",
        "        self.gamma = gamma\n",
        "        self.theta = theta\n",
        "\n",
        "    def value_iteration(self):\n",
        "        V = np.zeros(self.env.grid_size)\n",
        "        iteration = 0\n",
        "        while True:\n",
        "            delta = 0\n",
        "            for x in range(self.env.grid_size[0]):\n",
        "                for y in range(self.env.grid_size[1]):\n",
        "                    if (x, y) in self.env.blocked_cells:\n",
        "                        continue  # Skip blocked cells\n",
        "\n",
        "                    v = V[x, y]\n",
        "                    V[x, y] = max(\n",
        "                        sum(p * (r + self.gamma * V[nx, ny]) for (nx, ny), p, r in self.transitions((x, y), a))\n",
        "                        for a in range(self.env.action_space.n)\n",
        "                    )\n",
        "                    delta = max(delta, abs(v - V[x, y]))\n",
        "            iteration += 1\n",
        "            print(f\"Value Iteration: {iteration}\")\n",
        "            if delta < self.theta:\n",
        "                break\n",
        "\n",
        "        # Compute the optimal policy\n",
        "        optimal_policy = self.compute_optimal_policy(V)\n",
        "        return optimal_policy, V, iteration\n",
        "\n",
        "    def compute_optimal_policy(self, V):\n",
        "        optimal_policy = np.zeros((self.env.grid_size[0], self.env.grid_size[1], self.env.action_space.n))\n",
        "        for x in range(self.env.grid_size[0]):\n",
        "            for y in range(self.env.grid_size[1]):\n",
        "                if (x, y) in self.env.blocked_cells:\n",
        "                    continue  # Skip blocked cells\n",
        "\n",
        "                q_values = np.array([\n",
        "                    sum(p * (r + self.gamma * V[nx, ny]) for (nx, ny), p, r in self.transitions((x, y), a))\n",
        "                    for a in range(self.env.action_space.n)\n",
        "                ])\n",
        "                best_action = np.argmax(q_values)\n",
        "                optimal_policy[x, y, best_action] = 1.0\n",
        "\n",
        "        # Convert the optimal policy to the readable format\n",
        "        return self.convert_policy_to_readable_format(optimal_policy)\n",
        "\n",
        "    def convert_policy_to_readable_format(self, policy):\n",
        "        directions = np.array(['N', 'E', 'S', 'W'])\n",
        "        readable_policy = np.full((self.env.grid_size[0], self.env.grid_size[1]), '', dtype='<U1')\n",
        "\n",
        "        for x in range(self.env.grid_size[0]):\n",
        "            for y in range(self.env.grid_size[1]):\n",
        "                if (x, y) in self.env.blocked_cells:\n",
        "                    readable_policy[x, y] = 'X'  # Mark blocked cells\n",
        "                else:\n",
        "                    best_action = np.argmax(policy[x, y])\n",
        "                    readable_policy[x, y] = directions[best_action]\n",
        "\n",
        "        return readable_policy\n",
        "\n",
        "    def transitions(self, state, action):\n",
        "        transitions = []\n",
        "        x, y = state\n",
        "        if action == 0:  # North\n",
        "            new_x, new_y = x - 1, y\n",
        "        elif action == 1:  # East\n",
        "            new_x, new_y = x, y + 1\n",
        "        elif action == 2:  # South\n",
        "            new_x, new_y = x + 1, y\n",
        "        elif action == 3:  # West\n",
        "            new_x, new_y = x, y - 1\n",
        "\n",
        "        if self.env.is_valid_state(new_x, new_y):\n",
        "            transitions.append(((new_x, new_y), 1.0, self.env.rewards[new_x, new_y]))\n",
        "        else:\n",
        "            transitions.append(((x, y), 1.0, self.env.rewards[x, y]))\n",
        "\n",
        "        return transitions"
      ],
      "metadata": {
        "id": "0tRkYckpWcNq"
      },
      "execution_count": 47,
      "outputs": []
    },
    {
      "cell_type": "code",
      "source": [
        "# Create the environment\n",
        "env = Grid_world_Env_Deterministic()\n",
        "agent = Agent_2(env)\n",
        "\n",
        "# Perform value iteration to get the optimal policy and state values\n",
        "optimal_policy, state_values, iterations = agent.value_iteration()\n",
        "\n",
        "print(\"Optimal Policy:\\n\", optimal_policy)\n",
        "print(\"State Values:\\n\", state_values)\n",
        "print(\"Number of Iterations:\", iterations)"
      ],
      "metadata": {
        "colab": {
          "base_uri": "https://localhost:8080/"
        },
        "id": "q0LP1Y2lWrQG",
        "outputId": "882e6601-ee7a-44c4-8fb8-e2c7f6cf7829"
      },
      "execution_count": 48,
      "outputs": [
        {
          "output_type": "stream",
          "name": "stdout",
          "text": [
            "Value Iteration: 1\n",
            "Value Iteration: 2\n",
            "Value Iteration: 3\n",
            "Value Iteration: 4\n",
            "Value Iteration: 5\n",
            "Value Iteration: 6\n",
            "Value Iteration: 7\n",
            "Value Iteration: 8\n",
            "Value Iteration: 9\n",
            "Value Iteration: 10\n",
            "Value Iteration: 11\n",
            "Value Iteration: 12\n",
            "Value Iteration: 13\n",
            "Value Iteration: 14\n",
            "Value Iteration: 15\n",
            "Value Iteration: 16\n",
            "Value Iteration: 17\n",
            "Value Iteration: 18\n",
            "Value Iteration: 19\n",
            "Value Iteration: 20\n",
            "Value Iteration: 21\n",
            "Value Iteration: 22\n",
            "Value Iteration: 23\n",
            "Optimal Policy:\n",
            " [['S' 'W' 'E' 'E' 'S']\n",
            " ['S' 'X' 'X' 'E' 'E']\n",
            " ['S' 'X' 'X' 'E' 'N']\n",
            " ['E' 'E' 'S' 'E' 'N']\n",
            " ['N' 'E' 'E' 'E' 'N']]\n",
            "State Values:\n",
            " [[ 0.0755614   0.04533684  4.49990128  7.49990128 12.49990128]\n",
            " [ 0.12594988  0.          0.         12.49990128 12.49990128]\n",
            " [ 0.20993068  0.          0.          7.49994077 12.49994077]\n",
            " [ 0.34989868  0.58317868  0.97197868  4.49996446  7.49996446]\n",
            " [ 0.20993921  0.97197868  1.61997868  2.69997868  4.49997868]]\n",
            "Number of Iterations: 23\n"
          ]
        }
      ]
    },
    {
      "cell_type": "markdown",
      "source": [
        "##**IV.** Analyze Algorithm Convergence: (10 points)"
      ],
      "metadata": {
        "id": "gpJ3zj3Wc9ch"
      }
    },
    {
      "cell_type": "markdown",
      "source": [
        "##**a.** Examine the number of iterations your algorithm takes to converge.(Stochastic Environment)"
      ],
      "metadata": {
        "id": "ENeE5D7uTWNf"
      }
    },
    {
      "cell_type": "code",
      "source": [
        "class Grid_world_Env_Stochastic(gym.Env):\n",
        "    metadata = {'render.modes': ['human']}\n",
        "\n",
        "    def __init__(self, grid_size=(5, 5), start=(0, 0), goal=(1, 4), fire_cells=[(0, 2), (3, 3), (4, 1)], blocked_cells=[(1, 1), (1, 2), (2, 1),(2,2)], noise=0.3):\n",
        "        super(Grid_world_Env_Stochastic, self).__init__()\n",
        "\n",
        "        self.grid_size = grid_size\n",
        "        self.start = start\n",
        "        self.goal = goal\n",
        "        self.fire_cells = fire_cells\n",
        "        self.blocked_cells = blocked_cells\n",
        "        self.noise = noise\n",
        "        self.current_position = start\n",
        "\n",
        "        self.action_space = spaces.Discrete(4)\n",
        "        # 4 actions: 0=North, 1=East, 2=South, 3=West\n",
        "        self.observation_space = spaces.Tuple((spaces.Discrete(grid_size[0]), spaces.Discrete(grid_size[1])))\n",
        "\n",
        "        self.rewards = np.zeros(grid_size)\n",
        "        self.rewards[goal] = 5\n",
        "        for cell in fire_cells:\n",
        "            self.rewards[cell] = -5\n",
        "\n",
        "    def reset(self):\n",
        "        self.current_position = self.start\n",
        "        return self.current_position\n",
        "\n",
        "    def is_valid_state(self, x, y):\n",
        "        return 0 <= x < self.grid_size[0] and 0 <= y < self.grid_size[1] and (x, y) not in self.blocked_cells\n",
        "\n",
        "    def step(self, action):\n",
        "        if np.random.rand() < self.noise:\n",
        "            action = np.random.choice([0, 1, 2, 3])\n",
        "\n",
        "        x, y = self.current_position\n",
        "        if action == 0:  # North\n",
        "            new_x, new_y = x - 1, y\n",
        "        elif action == 1:  # East\n",
        "            new_x, new_y = x, y + 1\n",
        "        elif action == 2:  # South\n",
        "            new_x, new_y = x + 1, y\n",
        "        elif action == 3:  # West\n",
        "            new_x, new_y = x, y - 1\n",
        "\n",
        "        if not self.is_valid_state(new_x, new_y):\n",
        "            new_x, new_y = x, y\n",
        "\n",
        "        reward = self.rewards[new_x, new_y]\n",
        "        done = (new_x, new_y) == self.goal or (new_x, new_y) in self.fire_cells\n",
        "\n",
        "        self.current_position = (new_x, new_y)\n",
        "\n",
        "        return (new_x, new_y), reward, done, {}\n",
        "\n",
        "\n",
        "    def render(self, mode='human'):\n",
        "        grid_copy = np.full(self.grid_size, -5)  # Initialize grid with  white\n",
        "\n",
        "        # Mark goal, fire, and blocked cells\n",
        "        grid_copy[self.goal] = 5\n",
        "        for cell in self.fire_cells:\n",
        "            grid_copy[cell] = 3\n",
        "        for cell in self.blocked_cells:\n",
        "            grid_copy[cell] = 0\n",
        "\n",
        "        # Define a color map for the grid\n",
        "        cmap = colors.ListedColormap(['white', 'black', 'red', 'green'])\n",
        "        bounds = [-6, -4, 1, 4, 6]\n",
        "        norm = colors.BoundaryNorm(bounds, cmap.N)\n",
        "\n",
        "        # Plot the grid\n",
        "        plt.imshow(grid_copy, cmap=cmap, norm=norm, interpolation='nearest')\n",
        "\n",
        "        # Mark the agent's position with a different marker\n",
        "        agent_x, agent_y = self.current_position\n",
        "        plt.scatter(agent_y, agent_x, c='blue', s=200, marker='*', label='Agent')\n",
        "\n",
        "        plt.colorbar(ticks=[-5, 0, 3, 5], format='%d')\n",
        "        plt.legend()\n",
        "        plt.show()"
      ],
      "metadata": {
        "id": "kimEq77tsris"
      },
      "execution_count": 58,
      "outputs": []
    },
    {
      "cell_type": "markdown",
      "source": [
        "##**With gamma = 0.95 and theta = 1e-7**"
      ],
      "metadata": {
        "id": "L-_JD9JNfXMM"
      }
    },
    {
      "cell_type": "code",
      "source": [
        "class Agent_2:\n",
        "    def __init__(self, env, gamma=0.95, theta=1e-7):\n",
        "        self.env = env\n",
        "        self.gamma = gamma\n",
        "        self.theta = theta\n",
        "\n",
        "    def value_iteration(self):\n",
        "        V = np.zeros(self.env.grid_size)\n",
        "        iteration = 0\n",
        "        while True:\n",
        "            delta = 0\n",
        "            for x in range(self.env.grid_size[0]):\n",
        "                for y in range(self.env.grid_size[1]):\n",
        "                    if (x, y) in self.env.blocked_cells:\n",
        "                        continue  # Skip blocked cells\n",
        "\n",
        "                    v = V[x, y]\n",
        "                    V[x, y] = max(\n",
        "                        sum(p * (r + self.gamma * V[nx, ny]) for (nx, ny), p, r in self.transitions((x, y), a))\n",
        "                        for a in range(self.env.action_space.n)\n",
        "                    )\n",
        "                    delta = max(delta, abs(v - V[x, y]))\n",
        "            iteration += 1\n",
        "            print(f\"Value Iteration: {iteration}\")\n",
        "            if delta < self.theta:\n",
        "                break\n",
        "\n",
        "        # Compute the optimal policy\n",
        "        optimal_policy = self.compute_optimal_policy(V)\n",
        "        return optimal_policy, V, iteration\n",
        "\n",
        "    def compute_optimal_policy(self, V):\n",
        "        optimal_policy = np.zeros((self.env.grid_size[0], self.env.grid_size[1], self.env.action_space.n))\n",
        "        for x in range(self.env.grid_size[0]):\n",
        "            for y in range(self.env.grid_size[1]):\n",
        "                if (x, y) in self.env.blocked_cells:\n",
        "                    continue  # Skip blocked cells\n",
        "\n",
        "                q_values = np.array([\n",
        "                    sum(p * (r + self.gamma * V[nx, ny]) for (nx, ny), p, r in self.transitions((x, y), a))\n",
        "                    for a in range(self.env.action_space.n)\n",
        "                ])\n",
        "                best_action = np.argmax(q_values)\n",
        "                optimal_policy[x, y, best_action] = 1.0\n",
        "\n",
        "        # Convert the optimal policy to the readable format\n",
        "        return self.convert_policy_to_readable_format(optimal_policy)\n",
        "\n",
        "    def convert_policy_to_readable_format(self, policy):\n",
        "        directions = np.array(['N', 'E', 'S', 'W'])\n",
        "        readable_policy = np.full((self.env.grid_size[0], self.env.grid_size[1]), '', dtype='<U1')\n",
        "\n",
        "        for x in range(self.env.grid_size[0]):\n",
        "            for y in range(self.env.grid_size[1]):\n",
        "                if (x, y) in self.env.blocked_cells:\n",
        "                    readable_policy[x, y] = 'X'  # Mark blocked cells\n",
        "                else:\n",
        "                    best_action = np.argmax(policy[x, y])\n",
        "                    readable_policy[x, y] = directions[best_action]\n",
        "\n",
        "        return readable_policy\n",
        "\n",
        "    def transitions(self, state, action):\n",
        "        transitions = []\n",
        "        x, y = state\n",
        "        if action == 0:  # North\n",
        "            new_x, new_y = x - 1, y\n",
        "        elif action == 1:  # East\n",
        "            new_x, new_y = x, y + 1\n",
        "        elif action == 2:  # South\n",
        "            new_x, new_y = x + 1, y\n",
        "        elif action == 3:  # West\n",
        "            new_x, new_y = x, y - 1\n",
        "\n",
        "        if self.env.is_valid_state(new_x, new_y):\n",
        "            transitions.append(((new_x, new_y), 1.0, self.env.rewards[new_x, new_y]))\n",
        "        else:\n",
        "            transitions.append(((x, y), 1.0, self.env.rewards[x, y]))\n",
        "\n",
        "        return transitions"
      ],
      "metadata": {
        "id": "U8Nn1sWvdzO8"
      },
      "execution_count": 50,
      "outputs": []
    },
    {
      "cell_type": "code",
      "source": [
        "# Create the environment\n",
        "env = Grid_world_Env_Stochastic()\n",
        "\n",
        "# Create the agent instance\n",
        "agent = Agent_2(env)\n",
        "\n",
        "# Perform value iteration to find the optimal policy and state values\n",
        "optimal_policy, optimal_state_values, iterations = agent.value_iteration()\n",
        "\n",
        "print(\"Optimal Policy:\\n\", optimal_policy)\n",
        "print(\"Optimal State Values:\\n\", optimal_state_values)\n",
        "print(\"Iterations:\", iterations)"
      ],
      "metadata": {
        "colab": {
          "base_uri": "https://localhost:8080/"
        },
        "id": "UQp0iUydSw1O",
        "outputId": "9a169dc7-0e8e-4536-e9ca-ecad800b10bf"
      },
      "execution_count": 51,
      "outputs": [
        {
          "output_type": "stream",
          "name": "stdout",
          "text": [
            "Value Iteration: 1\n",
            "Value Iteration: 2\n",
            "Value Iteration: 3\n",
            "Value Iteration: 4\n",
            "Value Iteration: 5\n",
            "Value Iteration: 6\n",
            "Value Iteration: 7\n",
            "Value Iteration: 8\n",
            "Value Iteration: 9\n",
            "Value Iteration: 10\n",
            "Value Iteration: 11\n",
            "Value Iteration: 12\n",
            "Value Iteration: 13\n",
            "Value Iteration: 14\n",
            "Value Iteration: 15\n",
            "Value Iteration: 16\n",
            "Value Iteration: 17\n",
            "Value Iteration: 18\n",
            "Value Iteration: 19\n",
            "Value Iteration: 20\n",
            "Value Iteration: 21\n",
            "Value Iteration: 22\n",
            "Value Iteration: 23\n",
            "Value Iteration: 24\n",
            "Value Iteration: 25\n",
            "Value Iteration: 26\n",
            "Value Iteration: 27\n",
            "Value Iteration: 28\n",
            "Value Iteration: 29\n",
            "Value Iteration: 30\n",
            "Value Iteration: 31\n",
            "Value Iteration: 32\n",
            "Value Iteration: 33\n",
            "Value Iteration: 34\n",
            "Value Iteration: 35\n",
            "Value Iteration: 36\n",
            "Value Iteration: 37\n",
            "Value Iteration: 38\n",
            "Value Iteration: 39\n",
            "Value Iteration: 40\n",
            "Value Iteration: 41\n",
            "Value Iteration: 42\n",
            "Value Iteration: 43\n",
            "Value Iteration: 44\n",
            "Value Iteration: 45\n",
            "Value Iteration: 46\n",
            "Value Iteration: 47\n",
            "Value Iteration: 48\n",
            "Value Iteration: 49\n",
            "Value Iteration: 50\n",
            "Value Iteration: 51\n",
            "Value Iteration: 52\n",
            "Value Iteration: 53\n",
            "Value Iteration: 54\n",
            "Value Iteration: 55\n",
            "Value Iteration: 56\n",
            "Value Iteration: 57\n",
            "Value Iteration: 58\n",
            "Value Iteration: 59\n",
            "Value Iteration: 60\n",
            "Value Iteration: 61\n",
            "Value Iteration: 62\n",
            "Value Iteration: 63\n",
            "Value Iteration: 64\n",
            "Value Iteration: 65\n",
            "Value Iteration: 66\n",
            "Value Iteration: 67\n",
            "Value Iteration: 68\n",
            "Value Iteration: 69\n",
            "Value Iteration: 70\n",
            "Value Iteration: 71\n",
            "Value Iteration: 72\n",
            "Value Iteration: 73\n",
            "Value Iteration: 74\n",
            "Value Iteration: 75\n",
            "Value Iteration: 76\n",
            "Value Iteration: 77\n",
            "Value Iteration: 78\n",
            "Value Iteration: 79\n",
            "Value Iteration: 80\n",
            "Value Iteration: 81\n",
            "Value Iteration: 82\n",
            "Value Iteration: 83\n",
            "Value Iteration: 84\n",
            "Value Iteration: 85\n",
            "Value Iteration: 86\n",
            "Value Iteration: 87\n",
            "Value Iteration: 88\n",
            "Value Iteration: 89\n",
            "Value Iteration: 90\n",
            "Value Iteration: 91\n",
            "Value Iteration: 92\n",
            "Value Iteration: 93\n",
            "Value Iteration: 94\n",
            "Value Iteration: 95\n",
            "Value Iteration: 96\n",
            "Value Iteration: 97\n",
            "Value Iteration: 98\n",
            "Value Iteration: 99\n",
            "Value Iteration: 100\n",
            "Value Iteration: 101\n",
            "Value Iteration: 102\n",
            "Value Iteration: 103\n",
            "Value Iteration: 104\n",
            "Value Iteration: 105\n",
            "Value Iteration: 106\n",
            "Value Iteration: 107\n",
            "Value Iteration: 108\n",
            "Value Iteration: 109\n",
            "Value Iteration: 110\n",
            "Value Iteration: 111\n",
            "Value Iteration: 112\n",
            "Value Iteration: 113\n",
            "Value Iteration: 114\n",
            "Value Iteration: 115\n",
            "Value Iteration: 116\n",
            "Value Iteration: 117\n",
            "Value Iteration: 118\n",
            "Value Iteration: 119\n",
            "Value Iteration: 120\n",
            "Value Iteration: 121\n",
            "Value Iteration: 122\n",
            "Value Iteration: 123\n",
            "Value Iteration: 124\n",
            "Value Iteration: 125\n",
            "Value Iteration: 126\n",
            "Value Iteration: 127\n",
            "Value Iteration: 128\n",
            "Value Iteration: 129\n",
            "Value Iteration: 130\n",
            "Value Iteration: 131\n",
            "Value Iteration: 132\n",
            "Value Iteration: 133\n",
            "Value Iteration: 134\n",
            "Value Iteration: 135\n",
            "Value Iteration: 136\n",
            "Value Iteration: 137\n",
            "Value Iteration: 138\n",
            "Value Iteration: 139\n",
            "Value Iteration: 140\n",
            "Value Iteration: 141\n",
            "Value Iteration: 142\n",
            "Value Iteration: 143\n",
            "Value Iteration: 144\n",
            "Value Iteration: 145\n",
            "Value Iteration: 146\n",
            "Value Iteration: 147\n",
            "Value Iteration: 148\n",
            "Value Iteration: 149\n",
            "Value Iteration: 150\n",
            "Value Iteration: 151\n",
            "Value Iteration: 152\n",
            "Value Iteration: 153\n",
            "Value Iteration: 154\n",
            "Value Iteration: 155\n",
            "Value Iteration: 156\n",
            "Value Iteration: 157\n",
            "Value Iteration: 158\n",
            "Value Iteration: 159\n",
            "Value Iteration: 160\n",
            "Value Iteration: 161\n",
            "Value Iteration: 162\n",
            "Value Iteration: 163\n",
            "Value Iteration: 164\n",
            "Value Iteration: 165\n",
            "Value Iteration: 166\n",
            "Value Iteration: 167\n",
            "Value Iteration: 168\n",
            "Value Iteration: 169\n",
            "Value Iteration: 170\n",
            "Value Iteration: 171\n",
            "Value Iteration: 172\n",
            "Value Iteration: 173\n",
            "Value Iteration: 174\n",
            "Value Iteration: 175\n",
            "Value Iteration: 176\n",
            "Value Iteration: 177\n",
            "Value Iteration: 178\n",
            "Value Iteration: 179\n",
            "Value Iteration: 180\n",
            "Value Iteration: 181\n",
            "Value Iteration: 182\n",
            "Value Iteration: 183\n",
            "Value Iteration: 184\n",
            "Value Iteration: 185\n",
            "Value Iteration: 186\n",
            "Value Iteration: 187\n",
            "Value Iteration: 188\n",
            "Value Iteration: 189\n",
            "Value Iteration: 190\n",
            "Value Iteration: 191\n",
            "Value Iteration: 192\n",
            "Value Iteration: 193\n",
            "Value Iteration: 194\n",
            "Value Iteration: 195\n",
            "Value Iteration: 196\n",
            "Value Iteration: 197\n",
            "Value Iteration: 198\n",
            "Value Iteration: 199\n",
            "Value Iteration: 200\n",
            "Value Iteration: 201\n",
            "Value Iteration: 202\n",
            "Value Iteration: 203\n",
            "Value Iteration: 204\n",
            "Value Iteration: 205\n",
            "Value Iteration: 206\n",
            "Value Iteration: 207\n",
            "Value Iteration: 208\n",
            "Value Iteration: 209\n",
            "Value Iteration: 210\n",
            "Value Iteration: 211\n",
            "Value Iteration: 212\n",
            "Value Iteration: 213\n",
            "Value Iteration: 214\n",
            "Value Iteration: 215\n",
            "Value Iteration: 216\n",
            "Value Iteration: 217\n",
            "Value Iteration: 218\n",
            "Value Iteration: 219\n",
            "Value Iteration: 220\n",
            "Value Iteration: 221\n",
            "Value Iteration: 222\n",
            "Value Iteration: 223\n",
            "Value Iteration: 224\n",
            "Value Iteration: 225\n",
            "Value Iteration: 226\n",
            "Value Iteration: 227\n",
            "Value Iteration: 228\n",
            "Value Iteration: 229\n",
            "Value Iteration: 230\n",
            "Value Iteration: 231\n",
            "Value Iteration: 232\n",
            "Value Iteration: 233\n",
            "Value Iteration: 234\n",
            "Value Iteration: 235\n",
            "Value Iteration: 236\n",
            "Value Iteration: 237\n",
            "Value Iteration: 238\n",
            "Value Iteration: 239\n",
            "Value Iteration: 240\n",
            "Value Iteration: 241\n",
            "Value Iteration: 242\n",
            "Value Iteration: 243\n",
            "Value Iteration: 244\n",
            "Value Iteration: 245\n",
            "Value Iteration: 246\n",
            "Value Iteration: 247\n",
            "Value Iteration: 248\n",
            "Value Iteration: 249\n",
            "Value Iteration: 250\n",
            "Value Iteration: 251\n",
            "Value Iteration: 252\n",
            "Value Iteration: 253\n",
            "Value Iteration: 254\n",
            "Value Iteration: 255\n",
            "Value Iteration: 256\n",
            "Value Iteration: 257\n",
            "Value Iteration: 258\n",
            "Value Iteration: 259\n",
            "Value Iteration: 260\n",
            "Value Iteration: 261\n",
            "Value Iteration: 262\n",
            "Value Iteration: 263\n",
            "Value Iteration: 264\n",
            "Value Iteration: 265\n",
            "Value Iteration: 266\n",
            "Value Iteration: 267\n",
            "Value Iteration: 268\n",
            "Value Iteration: 269\n",
            "Value Iteration: 270\n",
            "Value Iteration: 271\n",
            "Value Iteration: 272\n",
            "Value Iteration: 273\n",
            "Value Iteration: 274\n",
            "Value Iteration: 275\n",
            "Value Iteration: 276\n",
            "Value Iteration: 277\n",
            "Value Iteration: 278\n",
            "Value Iteration: 279\n",
            "Value Iteration: 280\n",
            "Value Iteration: 281\n",
            "Value Iteration: 282\n",
            "Value Iteration: 283\n",
            "Value Iteration: 284\n",
            "Value Iteration: 285\n",
            "Value Iteration: 286\n",
            "Value Iteration: 287\n",
            "Value Iteration: 288\n",
            "Value Iteration: 289\n",
            "Value Iteration: 290\n",
            "Value Iteration: 291\n",
            "Value Iteration: 292\n",
            "Value Iteration: 293\n",
            "Value Iteration: 294\n",
            "Value Iteration: 295\n",
            "Value Iteration: 296\n",
            "Value Iteration: 297\n",
            "Value Iteration: 298\n",
            "Value Iteration: 299\n",
            "Value Iteration: 300\n",
            "Value Iteration: 301\n",
            "Value Iteration: 302\n",
            "Value Iteration: 303\n",
            "Value Iteration: 304\n",
            "Value Iteration: 305\n",
            "Value Iteration: 306\n",
            "Value Iteration: 307\n",
            "Value Iteration: 308\n",
            "Value Iteration: 309\n",
            "Value Iteration: 310\n",
            "Value Iteration: 311\n",
            "Value Iteration: 312\n",
            "Value Iteration: 313\n",
            "Value Iteration: 314\n",
            "Value Iteration: 315\n",
            "Value Iteration: 316\n",
            "Value Iteration: 317\n",
            "Value Iteration: 318\n",
            "Value Iteration: 319\n",
            "Value Iteration: 320\n",
            "Value Iteration: 321\n",
            "Value Iteration: 322\n",
            "Value Iteration: 323\n",
            "Value Iteration: 324\n",
            "Value Iteration: 325\n",
            "Value Iteration: 326\n",
            "Value Iteration: 327\n",
            "Value Iteration: 328\n",
            "Value Iteration: 329\n",
            "Value Iteration: 330\n",
            "Value Iteration: 331\n",
            "Value Iteration: 332\n",
            "Value Iteration: 333\n",
            "Value Iteration: 334\n",
            "Value Iteration: 335\n",
            "Value Iteration: 336\n",
            "Value Iteration: 337\n",
            "Value Iteration: 338\n",
            "Value Iteration: 339\n",
            "Value Iteration: 340\n",
            "Value Iteration: 341\n",
            "Value Iteration: 342\n",
            "Value Iteration: 343\n",
            "Value Iteration: 344\n",
            "Value Iteration: 345\n",
            "Value Iteration: 346\n",
            "Value Iteration: 347\n",
            "Optimal Policy:\n",
            " [['E' 'E' 'E' 'E' 'S']\n",
            " ['N' 'X' 'X' 'E' 'E']\n",
            " ['S' 'X' 'X' 'E' 'N']\n",
            " ['E' 'E' 'E' 'E' 'N']\n",
            " ['N' 'E' 'E' 'E' 'N']]\n",
            "Optimal State Values:\n",
            " [[76.70062314 80.73749814 90.24999814 94.99999814 99.99999814]\n",
            " [72.86559198  0.          0.         99.99999814 99.99999814]\n",
            " [69.22231238  0.          0.         94.99999823 99.99999823]\n",
            " [72.86559207 76.70062332 80.73749832 90.24999832 94.99999832]\n",
            " [69.22231247 77.37809215 81.4506234  85.7374984  90.2499984 ]]\n",
            "Iterations: 347\n"
          ]
        }
      ]
    },
    {
      "cell_type": "markdown",
      "source": [
        "###**With gamma = 0.95 and theta = 1e-1 (increase theta)**"
      ],
      "metadata": {
        "id": "DnR9WXm3qUxk"
      }
    },
    {
      "cell_type": "code",
      "source": [
        "class Agent_2:\n",
        "    def __init__(self, env, gamma=0.95, theta=1e-1):\n",
        "        self.env = env\n",
        "        self.gamma = gamma\n",
        "        self.theta = theta\n",
        "\n",
        "    def value_iteration(self):\n",
        "        V = np.zeros(self.env.grid_size)\n",
        "        iteration = 0\n",
        "        while True:\n",
        "            delta = 0\n",
        "            for x in range(self.env.grid_size[0]):\n",
        "                for y in range(self.env.grid_size[1]):\n",
        "                    if (x, y) in self.env.blocked_cells:\n",
        "                        continue  # Skip blocked cells\n",
        "\n",
        "                    v = V[x, y]\n",
        "                    V[x, y] = max(\n",
        "                        sum(p * (r + self.gamma * V[nx, ny]) for (nx, ny), p, r in self.transitions((x, y), a))\n",
        "                        for a in range(self.env.action_space.n)\n",
        "                    )\n",
        "                    delta = max(delta, abs(v - V[x, y]))\n",
        "            iteration += 1\n",
        "            print(f\"Value Iteration: {iteration}\")\n",
        "            if delta < self.theta:\n",
        "                break\n",
        "\n",
        "        # Compute the optimal policy\n",
        "        optimal_policy = self.compute_optimal_policy(V)\n",
        "        return optimal_policy, V, iteration\n",
        "\n",
        "    def compute_optimal_policy(self, V):\n",
        "        optimal_policy = np.zeros((self.env.grid_size[0], self.env.grid_size[1], self.env.action_space.n))\n",
        "        for x in range(self.env.grid_size[0]):\n",
        "            for y in range(self.env.grid_size[1]):\n",
        "                if (x, y) in self.env.blocked_cells:\n",
        "                    continue  # Skip blocked cells\n",
        "\n",
        "                q_values = np.array([\n",
        "                    sum(p * (r + self.gamma * V[nx, ny]) for (nx, ny), p, r in self.transitions((x, y), a))\n",
        "                    for a in range(self.env.action_space.n)\n",
        "                ])\n",
        "                best_action = np.argmax(q_values)\n",
        "                optimal_policy[x, y, best_action] = 1.0\n",
        "\n",
        "        # Convert the optimal policy to the readable format\n",
        "        return self.convert_policy_to_readable_format(optimal_policy)\n",
        "\n",
        "    def convert_policy_to_readable_format(self, policy):\n",
        "        directions = np.array(['N', 'E', 'S', 'W'])\n",
        "        readable_policy = np.full((self.env.grid_size[0], self.env.grid_size[1]), '', dtype='<U1')\n",
        "\n",
        "        for x in range(self.env.grid_size[0]):\n",
        "            for y in range(self.env.grid_size[1]):\n",
        "                if (x, y) in self.env.blocked_cells:\n",
        "                    readable_policy[x, y] = 'X'  # Mark blocked cells\n",
        "                else:\n",
        "                    best_action = np.argmax(policy[x, y])\n",
        "                    readable_policy[x, y] = directions[best_action]\n",
        "\n",
        "        return readable_policy\n",
        "\n",
        "    def transitions(self, state, action):\n",
        "        transitions = []\n",
        "        x, y = state\n",
        "        if action == 0:  # North\n",
        "            new_x, new_y = x - 1, y\n",
        "        elif action == 1:  # East\n",
        "            new_x, new_y = x, y + 1\n",
        "        elif action == 2:  # South\n",
        "            new_x, new_y = x + 1, y\n",
        "        elif action == 3:  # West\n",
        "            new_x, new_y = x, y - 1\n",
        "\n",
        "        if self.env.is_valid_state(new_x, new_y):\n",
        "            transitions.append(((new_x, new_y), 1.0, self.env.rewards[new_x, new_y]))\n",
        "        else:\n",
        "            transitions.append(((x, y), 1.0, self.env.rewards[x, y]))\n",
        "\n",
        "        return transitions"
      ],
      "metadata": {
        "id": "Rc-9clKjq540"
      },
      "execution_count": 52,
      "outputs": []
    },
    {
      "cell_type": "code",
      "source": [
        "# Create the environment\n",
        "env = Grid_world_Env_Stochastic()\n",
        "\n",
        "# Create the agent instance\n",
        "agent = Agent_2(env)\n",
        "\n",
        "# Perform value iteration to find the optimal policy and state values\n",
        "optimal_policy, optimal_state_values, iterations = agent.value_iteration()\n",
        "\n",
        "print(\"Optimal Policy:\\n\", optimal_policy)\n",
        "print(\"Optimal State Values:\\n\", optimal_state_values)\n",
        "print(\"Iterations:\", iterations)"
      ],
      "metadata": {
        "colab": {
          "base_uri": "https://localhost:8080/"
        },
        "outputId": "670d3c24-064d-4001-bb5a-c940659220c3",
        "collapsed": true,
        "id": "YbLEYK6yq54-"
      },
      "execution_count": 53,
      "outputs": [
        {
          "output_type": "stream",
          "name": "stdout",
          "text": [
            "Value Iteration: 1\n",
            "Value Iteration: 2\n",
            "Value Iteration: 3\n",
            "Value Iteration: 4\n",
            "Value Iteration: 5\n",
            "Value Iteration: 6\n",
            "Value Iteration: 7\n",
            "Value Iteration: 8\n",
            "Value Iteration: 9\n",
            "Value Iteration: 10\n",
            "Value Iteration: 11\n",
            "Value Iteration: 12\n",
            "Value Iteration: 13\n",
            "Value Iteration: 14\n",
            "Value Iteration: 15\n",
            "Value Iteration: 16\n",
            "Value Iteration: 17\n",
            "Value Iteration: 18\n",
            "Value Iteration: 19\n",
            "Value Iteration: 20\n",
            "Value Iteration: 21\n",
            "Value Iteration: 22\n",
            "Value Iteration: 23\n",
            "Value Iteration: 24\n",
            "Value Iteration: 25\n",
            "Value Iteration: 26\n",
            "Value Iteration: 27\n",
            "Value Iteration: 28\n",
            "Value Iteration: 29\n",
            "Value Iteration: 30\n",
            "Value Iteration: 31\n",
            "Value Iteration: 32\n",
            "Value Iteration: 33\n",
            "Value Iteration: 34\n",
            "Value Iteration: 35\n",
            "Value Iteration: 36\n",
            "Value Iteration: 37\n",
            "Value Iteration: 38\n",
            "Value Iteration: 39\n",
            "Value Iteration: 40\n",
            "Value Iteration: 41\n",
            "Value Iteration: 42\n",
            "Value Iteration: 43\n",
            "Value Iteration: 44\n",
            "Value Iteration: 45\n",
            "Value Iteration: 46\n",
            "Value Iteration: 47\n",
            "Value Iteration: 48\n",
            "Value Iteration: 49\n",
            "Value Iteration: 50\n",
            "Value Iteration: 51\n",
            "Value Iteration: 52\n",
            "Value Iteration: 53\n",
            "Value Iteration: 54\n",
            "Value Iteration: 55\n",
            "Value Iteration: 56\n",
            "Value Iteration: 57\n",
            "Value Iteration: 58\n",
            "Value Iteration: 59\n",
            "Value Iteration: 60\n",
            "Value Iteration: 61\n",
            "Value Iteration: 62\n",
            "Value Iteration: 63\n",
            "Value Iteration: 64\n",
            "Value Iteration: 65\n",
            "Value Iteration: 66\n",
            "Value Iteration: 67\n",
            "Value Iteration: 68\n",
            "Value Iteration: 69\n",
            "Value Iteration: 70\n",
            "Value Iteration: 71\n",
            "Value Iteration: 72\n",
            "Value Iteration: 73\n",
            "Value Iteration: 74\n",
            "Value Iteration: 75\n",
            "Value Iteration: 76\n",
            "Value Iteration: 77\n",
            "Value Iteration: 78\n",
            "Optimal Policy:\n",
            " [['E' 'E' 'E' 'E' 'S']\n",
            " ['N' 'X' 'X' 'E' 'E']\n",
            " ['S' 'X' 'X' 'E' 'N']\n",
            " ['E' 'E' 'E' 'E' 'N']\n",
            " ['N' 'E' 'E' 'E' 'N']]\n",
            "Optimal State Values:\n",
            " [[74.87066662 78.90754162 88.42004162 93.17004162 98.17004162]\n",
            " [71.12713329  0.          0.         98.17004162 98.17004162]\n",
            " [67.57077662  0.          0.         93.26153954 98.26153954]\n",
            " [71.21405631 75.04908756 79.08596256 88.59846256 93.34846256]\n",
            " [67.6533535  75.80913318 79.88166443 84.16853943 88.68103943]]\n",
            "Iterations: 78\n"
          ]
        }
      ]
    },
    {
      "cell_type": "markdown",
      "source": [
        "##**With gamma = 0.75 and theta = 1e-7**"
      ],
      "metadata": {
        "id": "_s_-hppFgLDT"
      }
    },
    {
      "cell_type": "code",
      "source": [
        "class Agent_2:\n",
        "    def __init__(self, env, gamma=0.75, theta=1e-7):\n",
        "        self.env = env\n",
        "        self.gamma = gamma\n",
        "        self.theta = theta\n",
        "\n",
        "    def value_iteration(self):\n",
        "        V = np.zeros(self.env.grid_size)\n",
        "        iteration = 0\n",
        "        while True:\n",
        "            delta = 0\n",
        "            for x in range(self.env.grid_size[0]):\n",
        "                for y in range(self.env.grid_size[1]):\n",
        "                    if (x, y) in self.env.blocked_cells:\n",
        "                        continue  # Skip blocked cells\n",
        "\n",
        "                    v = V[x, y]\n",
        "                    V[x, y] = max(\n",
        "                        sum(p * (r + self.gamma * V[nx, ny]) for (nx, ny), p, r in self.transitions((x, y), a))\n",
        "                        for a in range(self.env.action_space.n)\n",
        "                    )\n",
        "                    delta = max(delta, abs(v - V[x, y]))\n",
        "            iteration += 1\n",
        "            print(f\"Value Iteration: {iteration}\")\n",
        "            if delta < self.theta:\n",
        "                break\n",
        "\n",
        "        # Compute the optimal policy\n",
        "        optimal_policy = self.compute_optimal_policy(V)\n",
        "        return optimal_policy, V, iteration\n",
        "\n",
        "    def compute_optimal_policy(self, V):\n",
        "        optimal_policy = np.zeros((self.env.grid_size[0], self.env.grid_size[1], self.env.action_space.n))\n",
        "        for x in range(self.env.grid_size[0]):\n",
        "            for y in range(self.env.grid_size[1]):\n",
        "                if (x, y) in self.env.blocked_cells:\n",
        "                    continue  # Skip blocked cells\n",
        "\n",
        "                q_values = np.array([\n",
        "                    sum(p * (r + self.gamma * V[nx, ny]) for (nx, ny), p, r in self.transitions((x, y), a))\n",
        "                    for a in range(self.env.action_space.n)\n",
        "                ])\n",
        "                best_action = np.argmax(q_values)\n",
        "                optimal_policy[x, y, best_action] = 1.0\n",
        "\n",
        "        # Convert the optimal policy to the readable format\n",
        "        return self.convert_policy_to_readable_format(optimal_policy)\n",
        "\n",
        "    def convert_policy_to_readable_format(self, policy):\n",
        "        directions = np.array(['N', 'E', 'S', 'W'])\n",
        "        readable_policy = np.full((self.env.grid_size[0], self.env.grid_size[1]), '', dtype='<U1')\n",
        "\n",
        "        for x in range(self.env.grid_size[0]):\n",
        "            for y in range(self.env.grid_size[1]):\n",
        "                if (x, y) in self.env.blocked_cells:\n",
        "                    readable_policy[x, y] = 'X'  # Mark blocked cells\n",
        "                else:\n",
        "                    best_action = np.argmax(policy[x, y])\n",
        "                    readable_policy[x, y] = directions[best_action]\n",
        "\n",
        "        return readable_policy\n",
        "\n",
        "    def transitions(self, state, action):\n",
        "        transitions = []\n",
        "        x, y = state\n",
        "        if action == 0:  # North\n",
        "            new_x, new_y = x - 1, y\n",
        "        elif action == 1:  # East\n",
        "            new_x, new_y = x, y + 1\n",
        "        elif action == 2:  # South\n",
        "            new_x, new_y = x + 1, y\n",
        "        elif action == 3:  # West\n",
        "            new_x, new_y = x, y - 1\n",
        "\n",
        "        if self.env.is_valid_state(new_x, new_y):\n",
        "            transitions.append(((new_x, new_y), 1.0, self.env.rewards[new_x, new_y]))\n",
        "        else:\n",
        "            transitions.append(((x, y), 1.0, self.env.rewards[x, y]))\n",
        "\n",
        "        return transitions"
      ],
      "metadata": {
        "id": "aYSaVNiygLDz"
      },
      "execution_count": 54,
      "outputs": []
    },
    {
      "cell_type": "code",
      "source": [
        "# Create the environment\n",
        "env = Grid_world_Env_Stochastic()\n",
        "\n",
        "# Create the agent instance\n",
        "agent = Agent_2(env)\n",
        "\n",
        "# Perform value iteration to find the optimal policy and state values\n",
        "optimal_policy, optimal_state_values, iterations = agent.value_iteration()\n",
        "\n",
        "print(\"Optimal Policy:\\n\", optimal_policy)\n",
        "print(\"Optimal State Values:\\n\", optimal_state_values)\n",
        "print(\"Iterations:\", iterations)"
      ],
      "metadata": {
        "colab": {
          "base_uri": "https://localhost:8080/"
        },
        "outputId": "063b5979-2a91-4772-ac72-d1d133f4862e",
        "id": "flAGj5sKgLD0"
      },
      "execution_count": 55,
      "outputs": [
        {
          "output_type": "stream",
          "name": "stdout",
          "text": [
            "Value Iteration: 1\n",
            "Value Iteration: 2\n",
            "Value Iteration: 3\n",
            "Value Iteration: 4\n",
            "Value Iteration: 5\n",
            "Value Iteration: 6\n",
            "Value Iteration: 7\n",
            "Value Iteration: 8\n",
            "Value Iteration: 9\n",
            "Value Iteration: 10\n",
            "Value Iteration: 11\n",
            "Value Iteration: 12\n",
            "Value Iteration: 13\n",
            "Value Iteration: 14\n",
            "Value Iteration: 15\n",
            "Value Iteration: 16\n",
            "Value Iteration: 17\n",
            "Value Iteration: 18\n",
            "Value Iteration: 19\n",
            "Value Iteration: 20\n",
            "Value Iteration: 21\n",
            "Value Iteration: 22\n",
            "Value Iteration: 23\n",
            "Value Iteration: 24\n",
            "Value Iteration: 25\n",
            "Value Iteration: 26\n",
            "Value Iteration: 27\n",
            "Value Iteration: 28\n",
            "Value Iteration: 29\n",
            "Value Iteration: 30\n",
            "Value Iteration: 31\n",
            "Value Iteration: 32\n",
            "Value Iteration: 33\n",
            "Value Iteration: 34\n",
            "Value Iteration: 35\n",
            "Value Iteration: 36\n",
            "Value Iteration: 37\n",
            "Value Iteration: 38\n",
            "Value Iteration: 39\n",
            "Value Iteration: 40\n",
            "Value Iteration: 41\n",
            "Value Iteration: 42\n",
            "Value Iteration: 43\n",
            "Value Iteration: 44\n",
            "Value Iteration: 45\n",
            "Value Iteration: 46\n",
            "Value Iteration: 47\n",
            "Value Iteration: 48\n",
            "Value Iteration: 49\n",
            "Value Iteration: 50\n",
            "Value Iteration: 51\n",
            "Value Iteration: 52\n",
            "Value Iteration: 53\n",
            "Value Iteration: 54\n",
            "Value Iteration: 55\n",
            "Value Iteration: 56\n",
            "Value Iteration: 57\n",
            "Value Iteration: 58\n",
            "Value Iteration: 59\n",
            "Value Iteration: 60\n",
            "Value Iteration: 61\n",
            "Value Iteration: 62\n",
            "Value Iteration: 63\n",
            "Optimal Policy:\n",
            " [['E' 'E' 'E' 'E' 'S']\n",
            " ['N' 'X' 'X' 'E' 'E']\n",
            " ['S' 'X' 'X' 'E' 'N']\n",
            " ['E' 'E' 'S' 'E' 'N']\n",
            " ['N' 'E' 'E' 'E' 'N']]\n",
            "Optimal State Values:\n",
            " [[ 2.57812473  3.43749973 11.24999973 14.99999973 19.99999973]\n",
            " [ 1.93359355  0.          0.         19.99999973 19.99999973]\n",
            " [ 2.00225819  0.          0.         14.9999998  19.9999998 ]\n",
            " [ 2.66967762  3.5595702   4.74609364 11.24999985 14.99999985]\n",
            " [ 2.00225822  4.74609364  6.32812489  8.43749989 11.24999989]]\n",
            "Iterations: 63\n"
          ]
        }
      ]
    },
    {
      "cell_type": "markdown",
      "source": [
        "###**With gamma = 0.75 and theta = 1e-1 (increase theta)**"
      ],
      "metadata": {
        "id": "MxhgiUzzp7Hs"
      }
    },
    {
      "cell_type": "code",
      "source": [
        "class Agent_2:\n",
        "    def __init__(self, env, gamma=0.75, theta=1e-1):\n",
        "        self.env = env\n",
        "        self.gamma = gamma\n",
        "        self.theta = theta\n",
        "\n",
        "    def value_iteration(self):\n",
        "        V = np.zeros(self.env.grid_size)\n",
        "        iteration = 0\n",
        "        while True:\n",
        "            delta = 0\n",
        "            for x in range(self.env.grid_size[0]):\n",
        "                for y in range(self.env.grid_size[1]):\n",
        "                    if (x, y) in self.env.blocked_cells:\n",
        "                        continue  # Skip blocked cells\n",
        "\n",
        "                    v = V[x, y]\n",
        "                    V[x, y] = max(\n",
        "                        sum(p * (r + self.gamma * V[nx, ny]) for (nx, ny), p, r in self.transitions((x, y), a))\n",
        "                        for a in range(self.env.action_space.n)\n",
        "                    )\n",
        "                    delta = max(delta, abs(v - V[x, y]))\n",
        "            iteration += 1\n",
        "            print(f\"Value Iteration: {iteration}\")\n",
        "            if delta < self.theta:\n",
        "                break\n",
        "\n",
        "        # Compute the optimal policy\n",
        "        optimal_policy = self.compute_optimal_policy(V)\n",
        "        return optimal_policy, V, iteration\n",
        "\n",
        "    def compute_optimal_policy(self, V):\n",
        "        optimal_policy = np.zeros((self.env.grid_size[0], self.env.grid_size[1], self.env.action_space.n))\n",
        "        for x in range(self.env.grid_size[0]):\n",
        "            for y in range(self.env.grid_size[1]):\n",
        "                if (x, y) in self.env.blocked_cells:\n",
        "                    continue  # Skip blocked cells\n",
        "\n",
        "                q_values = np.array([\n",
        "                    sum(p * (r + self.gamma * V[nx, ny]) for (nx, ny), p, r in self.transitions((x, y), a))\n",
        "                    for a in range(self.env.action_space.n)\n",
        "                ])\n",
        "                best_action = np.argmax(q_values)\n",
        "                optimal_policy[x, y, best_action] = 1.0\n",
        "\n",
        "        # Convert the optimal policy to the readable format\n",
        "        return self.convert_policy_to_readable_format(optimal_policy)\n",
        "\n",
        "    def convert_policy_to_readable_format(self, policy):\n",
        "        directions = np.array(['N', 'E', 'S', 'W'])\n",
        "        readable_policy = np.full((self.env.grid_size[0], self.env.grid_size[1]), '', dtype='<U1')\n",
        "\n",
        "        for x in range(self.env.grid_size[0]):\n",
        "            for y in range(self.env.grid_size[1]):\n",
        "                if (x, y) in self.env.blocked_cells:\n",
        "                    readable_policy[x, y] = 'X'  # Mark blocked cells\n",
        "                else:\n",
        "                    best_action = np.argmax(policy[x, y])\n",
        "                    readable_policy[x, y] = directions[best_action]\n",
        "\n",
        "        return readable_policy\n",
        "\n",
        "    def transitions(self, state, action):\n",
        "        transitions = []\n",
        "        x, y = state\n",
        "        if action == 0:  # North\n",
        "            new_x, new_y = x - 1, y\n",
        "        elif action == 1:  # East\n",
        "            new_x, new_y = x, y + 1\n",
        "        elif action == 2:  # South\n",
        "            new_x, new_y = x + 1, y\n",
        "        elif action == 3:  # West\n",
        "            new_x, new_y = x, y - 1\n",
        "\n",
        "        if self.env.is_valid_state(new_x, new_y):\n",
        "            transitions.append(((new_x, new_y), 1.0, self.env.rewards[new_x, new_y]))\n",
        "        else:\n",
        "            transitions.append(((x, y), 1.0, self.env.rewards[x, y]))\n",
        "\n",
        "        return transitions"
      ],
      "metadata": {
        "id": "LDbFUGQbq__9"
      },
      "execution_count": 56,
      "outputs": []
    },
    {
      "cell_type": "code",
      "source": [
        "# Create the environment\n",
        "env = Grid_world_Env_Stochastic()\n",
        "\n",
        "# Create the agent instance\n",
        "agent = Agent_2(env)\n",
        "\n",
        "# Perform value iteration to find the optimal policy and state values\n",
        "optimal_policy, optimal_state_values, iterations = agent.value_iteration()\n",
        "\n",
        "print(\"Optimal Policy:\\n\", optimal_policy)\n",
        "print(\"Optimal State Values:\\n\", optimal_state_values)\n",
        "print(\"Iterations:\", iterations)"
      ],
      "metadata": {
        "colab": {
          "base_uri": "https://localhost:8080/"
        },
        "outputId": "189a0eda-09bd-4bef-dd98-398b2153d028",
        "id": "GHahP2ijrAAK"
      },
      "execution_count": 57,
      "outputs": [
        {
          "output_type": "stream",
          "name": "stdout",
          "text": [
            "Value Iteration: 1\n",
            "Value Iteration: 2\n",
            "Value Iteration: 3\n",
            "Value Iteration: 4\n",
            "Value Iteration: 5\n",
            "Value Iteration: 6\n",
            "Value Iteration: 7\n",
            "Value Iteration: 8\n",
            "Value Iteration: 9\n",
            "Value Iteration: 10\n",
            "Value Iteration: 11\n",
            "Value Iteration: 12\n",
            "Value Iteration: 13\n",
            "Value Iteration: 14\n",
            "Value Iteration: 15\n",
            "Optimal Policy:\n",
            " [['E' 'E' 'E' 'E' 'S']\n",
            " ['N' 'X' 'X' 'E' 'E']\n",
            " ['S' 'X' 'X' 'E' 'N']\n",
            " ['E' 'E' 'S' 'E' 'N']\n",
            " ['N' 'E' 'E' 'E' 'N']]\n",
            "Optimal State Values:\n",
            " [[ 2.31085578  3.17023078 10.98273078 14.73273078 19.73273078]\n",
            " [ 1.73314183  0.          0.         19.73273078 19.73273078]\n",
            " [ 1.8895041   0.          0.         14.79954808 19.79954808]\n",
            " [ 2.55692353  3.44681611  4.63333955 11.09966106 14.84966106]\n",
            " [ 1.91769265  4.63333955  6.2153708   8.3247458  11.1372458 ]]\n",
            "Iterations: 15\n"
          ]
        }
      ]
    },
    {
      "cell_type": "markdown",
      "source": [
        "##**b.** Discuss factors affecting convergence speed and policy quality."
      ],
      "metadata": {
        "id": "MYdUZFAbTycI"
      }
    },
    {
      "cell_type": "markdown",
      "source": [
        "###Several factors influence the convergence speed and the quality of the optimal policy:\n",
        "\n",
        "**1-Discount Factor (Gamma):**\n",
        "\n",
        "* A higher discount factor means that future rewards are considered more significant. This can lead to more iterations to evaluate the policy, as the agent considers long-term rewards.\n",
        "\n",
        "* A lower discount factor focuses more on immediate rewards, potentially speeding up convergence but possibly resulting in a less optimal long-term policy.\n",
        "\n",
        "**2-Threshold (Theta):**\n",
        "\n",
        "`The threshold for stopping policy evaluation affects how precise the value function is. A smaller theta value results in more precise value estimates but requires more iterations to converge.\n",
        "A larger theta value speeds up convergence but might result in a suboptimal policy due to less accurate value estimates.`\n",
        "\n",
        "**3-Environment Size and Complexity:**\n",
        "\n",
        "`Larger and more complex environments with more states and actions require more iterations for both policy evaluation and improvement.\n",
        "The structure of the environment (presence of obstacles, rewards distribution) also impacts the convergence speed.`\n",
        "\n",
        "**4- Reward Structure:**\n",
        "\n",
        "`The distribution and magnitude of rewards influence convergence. Sparse rewards might slow down the learning process, while dense and well-distributed rewards can accelerate convergence.`"
      ],
      "metadata": {
        "id": "P9JT4fdPT5y3"
      }
    },
    {
      "cell_type": "markdown",
      "source": [
        "##**Referances**"
      ],
      "metadata": {
        "id": "KH0rNkHZd8So"
      }
    },
    {
      "cell_type": "markdown",
      "source": [
        "* [Resource 1](https://towardsdatascience.com/reinforcement-learning-implement-grid-world-from-scratch-c5963765ebff)\n",
        "\n",
        "* [Resource 2](https://dxganta.medium.com/coding-the-gridworld-example-from-deepminds-reinforcement-learning-course-in-python-17d74335fcbc)\n",
        "\n",
        "* [Resource 3](https://stackoverflow.com/questions/49083999/how-to-solve-reinforcement-learning-grid-world-examples-using-value-iteration)\n",
        "\n",
        "* [Resource 4](https://medium.com/@sadeepari/beyond-the-sandbox-building-your-own-reinforcement-learning-grid-world-65dbd2a1705d)\n",
        "\n",
        "* [Resource 5](https://cs.stanford.edu/people/karpathy/reinforcejs/gridworld_dp.html)\n"
      ],
      "metadata": {
        "id": "Z9JCI4zneCOs"
      }
    },
    {
      "cell_type": "code",
      "source": [],
      "metadata": {
        "id": "mo12IPXpeBaV"
      },
      "execution_count": null,
      "outputs": []
    }
  ]
}